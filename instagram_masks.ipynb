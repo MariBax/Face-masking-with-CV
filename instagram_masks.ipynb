{
 "cells": [
  {
   "cell_type": "code",
   "execution_count": 1,
   "metadata": {
    "id": "f4Cv0XGpQxND"
   },
   "outputs": [],
   "source": [
    "import cv2\n",
    "import dlib\n",
    "import numpy as np\n",
    "import matplotlib.pyplot as plt\n",
    "from imutils import face_utils, translate, resize\n",
    "from imutils.video import VideoStream, FPS, FileVideoStream\n",
    "import time\n",
    "\n",
    "from scipy.spatial import distance as dist\n",
    "import math"
   ]
  },
  {
   "cell_type": "code",
   "execution_count": 2,
   "metadata": {},
   "outputs": [],
   "source": [
    "def get_lip_thikness(lip):\n",
    "    thikness = 0\n",
    "    for i in [2, 3, 4]:\n",
    "        distance = math.sqrt((lip[i][0] - lip[12-i][0])**2 +\n",
    "                             (lip[i][1] - lip[12-i][1])**2)\n",
    "        thikness += distance\n",
    "    return thikness / 3\n",
    "\n",
    "def get_mouth_height(top_lip, bottom_lip):\n",
    "    height = 0\n",
    "    for i in [8, 9, 10]:\n",
    "        distance = math.sqrt((top_lip[i][0] - bottom_lip[18-i][0])**2 + \n",
    "                             (top_lip[i][1] - bottom_lip[18-i][1])**2)\n",
    "        height += distance\n",
    "    return height / 3\n",
    "\n",
    "def check_mouth_open(top_lip, bottom_lip):\n",
    "    top_lip_height = get_lip_thikness(top_lip)\n",
    "    bottom_lip_height = get_lip_thikness(bottom_lip)\n",
    "    mouth_height = get_mouth_height(top_lip, bottom_lip)\n",
    "\n",
    "    return mouth_height > min(top_lip_height, bottom_lip_height) * MOUTH_THRESH"
   ]
  },
  {
   "cell_type": "code",
   "execution_count": 3,
   "metadata": {
    "id": "3cZ1H8YeR2Xp"
   },
   "outputs": [],
   "source": [
    "def eye_aspect_ratio(eye):\n",
    "    A = dist.euclidean(eye[1], eye[5])\n",
    "    B = dist.euclidean(eye[2], eye[4])\n",
    "    C = dist.euclidean(eye[0], eye[3])\n",
    "    return (A + B) / (2.0 * C)\n",
    "\n",
    "def calc_eyes_ratio(leftEye, rightEye):\n",
    "    leftEAR = eye_aspect_ratio(leftEye)\n",
    "    rightEAR = eye_aspect_ratio(rightEye)\n",
    "    return (leftEAR + rightEAR) / 2.0"
   ]
  },
  {
   "cell_type": "code",
   "execution_count": 4,
   "metadata": {},
   "outputs": [],
   "source": [
    "def mask_image(frame, shape, face_mask, MASK_NAME):\n",
    "    dst_points = {'eyes': np.float32([shape[36], shape[45], shape[30]]),\n",
    "                  'nose': np.float32([shape[30], shape[50], shape[52]]),\n",
    "                  'brows': np.float32([shape[19], shape[27], shape[24]]),\n",
    "                  'moustache': np.float32([shape[49], shape[33], shape[53]]),\n",
    "                  'left_ear': np.float32([shape[2], shape[1], shape[0]]),\n",
    "                  'lips': np.float32([shape[8], shape[1], shape[15]])}\n",
    "    \n",
    "    face_mask_small = face_mask\n",
    "    gray_mask = cv2.cvtColor(face_mask_small, cv2.COLOR_BGR2GRAY)\n",
    "    if not mask_info[MASK_NAME]['transparent']:\n",
    "        ret, mask = cv2.threshold(gray_mask, 230, 255, cv2.THRESH_BINARY_INV)\n",
    "    else:\n",
    "        ret, mask = cv2.threshold(gray_mask, 30, 255, cv2.THRESH_BINARY)\n",
    "    face_mask2 = cv2.bitwise_and(face_mask_small, face_mask_small, mask=mask)\n",
    "\n",
    "    rows, cols = frame.shape[:2]\n",
    "    M = cv2.getAffineTransform(mask_info[MASK_NAME]['src_points'],\n",
    "                               dst_points[mask_info[MASK_NAME]['dst_points']])\n",
    "    dst = cv2.warpAffine(face_mask2, M, (cols,rows))\n",
    "    dst_mask = cv2.warpAffine(mask, M, (cols,rows))\n",
    "\n",
    "    gray_dst = cv2.cvtColor(dst, cv2.COLOR_BGR2GRAY)\n",
    "    ret, mask_dst = cv2.threshold(dst_mask, 230, 255, cv2.THRESH_BINARY)\n",
    "    mask_inv = cv2.bitwise_not(mask_dst)\n",
    "\n",
    "    masked_frame = cv2.bitwise_and(frame, frame, mask=mask_inv)\n",
    "    masked_dst = cv2.bitwise_and(dst, dst, mask=mask_dst)\n",
    "\n",
    "    frame = cv2.add(masked_frame, masked_dst)\n",
    "    \n",
    "    return frame"
   ]
  },
  {
   "cell_type": "code",
   "execution_count": 5,
   "metadata": {},
   "outputs": [],
   "source": [
    "def get_lips(shape):\n",
    "    ulip = np.append(shape[48:55], shape[60:65][::-1], axis=0)\n",
    "    blip = np.append(shape[54:60], [shape[48]], axis=0)\n",
    "    blip = np.append(blip, [shape[60]], axis=0)\n",
    "    blip = np.append(blip, shape[64:68][::-1], axis=0)\n",
    "    return ulip, blip"
   ]
  },
  {
   "cell_type": "code",
   "execution_count": 6,
   "metadata": {},
   "outputs": [],
   "source": [
    "def process_rect(frame, gray, rect, ear_cnt, total, cnt):\n",
    "    shape = predictor(gray, rect)\n",
    "    shape = face_utils.shape_to_np(shape)\n",
    "\n",
    "    # extract start and end points\n",
    "    leftEye, rightEye = shape[42:48], shape[36:42]\n",
    "    ulip, blip = get_lips(shape)\n",
    "\n",
    "    # calc eyes ratio\n",
    "    ear = calc_eyes_ratio(leftEye, rightEye)\n",
    "    if ear < EYE_AR_THRESH:\n",
    "        ear_cnt += 1\n",
    "    else:\n",
    "        if ear_cnt >= EYE_AR_CONSEC_FRAMES:\n",
    "            total += 1\n",
    "        ear_cnt = 0\n",
    "\n",
    "    # print info about eyes\n",
    "    cv2.putText(frame, \"Blinks: {}\".format(total), (10, 30),\n",
    "      cv2.FONT_HERSHEY_SIMPLEX, 0.7, (0, 0, 255), 2)\n",
    "\n",
    "    # if mouth is open, put corona mask\n",
    "    if check_mouth_open(ulip, blip):\n",
    "        cnt += 1\n",
    "        if cnt >= 10:\n",
    "            frame = mask_image(frame, shape, corona_mask, 'face_mask.jpeg')\n",
    "    else:\n",
    "        cnt = 0\n",
    "\n",
    "    return mask_image(frame, shape, face_mask, MASK_NAME), ear_cnt, total, cnt"
   ]
  },
  {
   "cell_type": "code",
   "execution_count": 7,
   "metadata": {},
   "outputs": [],
   "source": [
    "mask_info = { 'mask1.jpg': {\n",
    "                  \"src_points\": np.float32([[400, 480], [800, 480], [600, 600]]), \n",
    "                  \"dst_points\": 'eyes',\n",
    "                  \"transparent\": False},\n",
    "              'mask2.jpg': {\n",
    "                  \"src_points\": np.float32([[270, 400], [680, 400], [470, 550]]),\n",
    "                  \"dst_points\": 'eyes',\n",
    "                  \"transparent\": False},\n",
    "              'cat_nose.png': {\n",
    "                  \"src_points\": np.float32([[500, 400], [450, 500], [550, 500]]),\n",
    "                  \"dst_points\": 'nose',\n",
    "                  \"transparent\": True},\n",
    "              '2_new_year_hat.PNG': {\n",
    "                  \"src_points\": np.float32([[250, 750], [400, 850], [550, 750]]),\n",
    "                  \"dst_points\": 'brows',\n",
    "                  \"transparent\": True},\n",
    "              'hat.png': {\n",
    "                  \"src_points\": np.float32([[150, 620], [250, 644], [350, 620]]),\n",
    "                  \"dst_points\": 'brows',\n",
    "                  \"transparent\": False},\n",
    "              'moustache.png': {\n",
    "                  \"src_points\": np.float32([[200, 215], [290, 0], [400, 215]]),\n",
    "                  \"dst_points\": 'moustache',\n",
    "                  \"transparent\": False},\n",
    "              '1_cat_left_ear.PNG': {\n",
    "                  \"src_points\": np.float32([[450, 900], [600, 780], [800, 650]]),\n",
    "                  \"dst_points\": 'left_ear',\n",
    "                  \"transparent\": True},\n",
    "              'face_mask.jpeg': {\n",
    "                  \"src_points\": np.float32([[120, 185], [35, 55], [185, 55]]),\n",
    "                  \"dst_points\": 'lips',\n",
    "                  \"transparent\": False}}"
   ]
  },
  {
   "cell_type": "code",
   "execution_count": 8,
   "metadata": {
    "id": "XBifulJWSIcM"
   },
   "outputs": [],
   "source": [
    "EYE_AR_THRESH = 0.3\n",
    "EYE_AR_CONSEC_FRAMES = 3\n",
    "MOUTH_THRESH = 0.9\n",
    "\n",
    "ear_cnt = cnt = total = 0"
   ]
  },
  {
   "cell_type": "code",
   "execution_count": 9,
   "metadata": {},
   "outputs": [],
   "source": [
    "image_dir = \"images\"\n",
    "video_dir = \"videos\"\n",
    "mask_dir = \"masks\"\n",
    "result_dir = \"results\"\n",
    "\n",
    "IMG_NAME = \"face.jpg\"\n",
    "VIDEO_NAME = \"Mironova_3rd_pitch.mp4\"\n",
    "MASK_NAME = 'mask1.jpg'"
   ]
  },
  {
   "cell_type": "code",
   "execution_count": 10,
   "metadata": {
    "colab": {
     "base_uri": "https://localhost:8080/"
    },
    "id": "6u3tLVMhTTOR",
    "outputId": "c81d1b30-4e61-4780-d722-5f5126883b3b"
   },
   "outputs": [],
   "source": [
    "detector = dlib.get_frontal_face_detector()\n",
    "predictor = dlib.shape_predictor(\"shape_predictor_68_face_landmarks.dat\")"
   ]
  },
  {
   "cell_type": "code",
   "execution_count": 11,
   "metadata": {},
   "outputs": [
    {
     "data": {
      "image/png": "[encoded data removed]",
      "text/plain": [
       "<Figure size 432x288 with 1 Axes>"
      ]
     },
     "metadata": {
      "needs_background": "light"
     },
     "output_type": "display_data"
    }
   ],
   "source": [
    "corona_mask = cv2.imread(f\"{mask_dir}/face_mask.jpeg\")\n",
    "face_mask = cv2.imread(f\"{mask_dir}/{MASK_NAME}\")\n",
    "\n",
    "plt.imshow(face_mask)\n",
    "plt.grid(True);"
   ]
  },
  {
   "cell_type": "code",
   "execution_count": 12,
   "metadata": {
    "colab": {
     "base_uri": "https://localhost:8080/"
    },
    "id": "RXw05_J0UXAq",
    "outputId": "899280a5-8782-4630-cc63-3371448ec972"
   },
   "outputs": [],
   "source": [
    "target = \"v\""
   ]
  },
  {
   "cell_type": "code",
   "execution_count": 13,
   "metadata": {
    "colab": {
     "base_uri": "https://localhost:8080/",
     "height": 1000
    },
    "id": "opkpzU8AUsVK",
    "outputId": "f6417a2a-2125-4f29-c3cc-24b95cfa74fe",
    "scrolled": true
   },
   "outputs": [],
   "source": [
    "if target == \"f\" or target == \"v\": \n",
    "\n",
    "    if target == \"f\":\n",
    "        vs = FileVideoStream(f\"{video_dir}/{VIDEO_NAME}\").start()\n",
    "    else:\n",
    "        vs = VideoStream(src=0).start()\n",
    "    \n",
    "    out = cv2.VideoWriter(f\"{result_dir}/output.mp4\", cv2.VideoWriter_fourcc(*'MP4V'), \n",
    "                          30.0, (253, 450), True)\n",
    "    \n",
    "    while True:\n",
    "        if target == \"f\" and not vs.more():\n",
    "            break\n",
    "\n",
    "        frame = vs.read()\n",
    "        frame = resize(frame, width=450)\n",
    "        gray = cv2.cvtColor(frame, cv2.COLOR_BGR2GRAY)\n",
    "        rects = detector(gray, 0)\n",
    "\n",
    "        for rect in rects:\n",
    "            frame, ear_cnt, total, cnt = process_rect(frame, gray, rect, ear_cnt, total, cnt)\n",
    "\n",
    "        cv2.imshow('frame', frame)\n",
    "    #     out.write(frame_new)\n",
    "\n",
    "        key = cv2.waitKey(1) & 0xFF\n",
    "        if key == ord(\"q\"):\n",
    "            break\n",
    "\n",
    "    cv2.destroyAllWindows()\n",
    "    vs.stop()\n",
    "    out.release()"
   ]
  },
  {
   "cell_type": "code",
   "execution_count": 14,
   "metadata": {},
   "outputs": [],
   "source": [
    "if target == 'i':\n",
    "    frame = cv2.imread(f\"{image_dir}/{IMG_NAME}\")\n",
    "    gray = cv2.cvtColor(frame, cv2.COLOR_BGR2GRAY)\n",
    "    rects = detector(gray, 0)\n",
    "\n",
    "    for rect in rects:\n",
    "        frame, ear_cnt, total, cnt = process_rect(frame, gray, rect, ear_cnt, total, cnt)\n",
    "\n",
    "    plt.imshow(frame)\n",
    "    cv2.imwrite(f\"{result_dir}/{IMG_NAME[:-4]}_{MASK_NAME[:-4]}.jpg\", frame)"
   ]
  }
 ],
 "metadata": {
  "colab": {
   "collapsed_sections": [],
   "name": "Копия блокнота \"dlib.ipynb\"",
   "provenance": []
  },
  "kernelspec": {
   "display_name": "Python 3",
   "language": "python",
   "name": "python3"
  },
  "language_info": {
   "codemirror_mode": {
    "name": "ipython",
    "version": 3
   },
   "file_extension": ".py",
   "mimetype": "text/x-python",
   "name": "python",
   "nbconvert_exporter": "python",
   "pygments_lexer": "ipython3",
   "version": "3.8.3"
  }
 },
 "nbformat": 4,
 "nbformat_minor": 1
}
